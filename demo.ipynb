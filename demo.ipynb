{
 "cells": [
  {
   "attachments": {},
   "cell_type": "markdown",
   "metadata": {},
   "source": [
    "一、对 demo_highlevel_api.py 中的函数分开测试"
   ]
  },
  {
   "cell_type": "code",
   "execution_count": null,
   "metadata": {},
   "outputs": [],
   "source": [
    "# -*- coding: utf-8 -*-\n",
    "\n",
    "from pathlib import Path\n",
    "import os\n",
    "import sys\n",
    "import uuid\n",
    "import os\n",
    "os.environ['PROJ_LIB'] = '/home/dls/anaconda3/envs/pytorch/share/proj '\n",
    "# ERROR 1: PROJ: proj_create_from_database: Open of /home/dls/anaconda3/envs/pytorch/share/proj failed 不然会报错\n",
    "import numpy as np\n",
    "import pandas as pd\n",
    "\n",
    "import fiona\n",
    "from fiona.crs import from_epsg\n",
    "import geopandas as gpd\n",
    "import shapely\n",
    "from shapely.geometry import Polygon, box, shape\n",
    "\n",
    "from dggrid4py import DGGRIDv7, Dggs, dgselect, dggs_types"
   ]
  },
  {
   "cell_type": "code",
   "execution_count": null,
   "metadata": {},
   "outputs": [],
   "source": [
    "executable = '/home/dls/data/openmmlab/DGGRID/build/src/apps/dggrid/dggrid'\n",
    "\n",
    "dggrid_instance = DGGRIDv7(executable= executable, working_dir='./tmp/grids', capture_logs=False, silent=False)\n",
    "path = './tmp/grids'\n",
    "est_bound = shapely.geometry.box(20.2,57.00, 28.4,60.0 )"
   ]
  },
  {
   "cell_type": "code",
   "execution_count": null,
   "metadata": {},
   "outputs": [],
   "source": [
    "gdf1 = dggrid_instance.grid_cell_polygons_for_extent('ISEA4T', 5, clip_geom=est_bound)\n"
   ]
  },
  {
   "cell_type": "code",
   "execution_count": null,
   "metadata": {},
   "outputs": [],
   "source": [
    "print(gdf1 )"
   ]
  },
  {
   "cell_type": "code",
   "execution_count": null,
   "metadata": {},
   "outputs": [],
   "source": [
    "df2 = dggrid_instance.grid_cellids_for_extent('ISEA7H', 5, clip_geom=est_bound)"
   ]
  },
  {
   "cell_type": "code",
   "execution_count": null,
   "metadata": {},
   "outputs": [],
   "source": [
    "print(df2)\n"
   ]
  },
  {
   "cell_type": "code",
   "execution_count": null,
   "metadata": {},
   "outputs": [],
   "source": [
    "cell_list_est = df2[0].values #获取seqnum编码\n",
    "cell_list_est"
   ]
  },
  {
   "cell_type": "code",
   "execution_count": null,
   "metadata": {},
   "outputs": [],
   "source": [
    "gdf4 = dggrid_instance.grid_cell_polygons_from_cellids(cell_list_est, 'ISEA7H', 5)"
   ]
  },
  {
   "cell_type": "code",
   "execution_count": null,
   "metadata": {},
   "outputs": [],
   "source": [
    "gdf4"
   ]
  },
  {
   "attachments": {},
   "cell_type": "markdown",
   "metadata": {},
   "source": [
    "二、测试GDALcollection生成输出\n",
    "path='/home/dls/data/openmmlab/DGGRID/examples/gdalCollection/outputfiles/everything_unwrap_points=FALSE.geojson'"
   ]
  },
  {
   "cell_type": "code",
   "execution_count": 2,
   "metadata": {},
   "outputs": [],
   "source": [
    "\n",
    "from pathlib import Path\n",
    "import os\n",
    "import sys\n",
    "os.environ['PROJ_LIB'] = '/home/dls/anaconda3/envs/pytorch/share/proj '\n",
    "# ERROR 1: PROJ: proj_create_from_database: Open of /home/dls/anaconda3/envs/pytorch/share/proj failed 不然会报错\n",
    "import numpy as np\n",
    "import pandas as pd\n",
    "\n",
    "import fiona\n",
    "from fiona.crs import from_epsg\n",
    "import geopandas as gpd\n",
    "def example_read_geojson(path):\n",
    "    \"\"\"\n",
    "    GDALcollection生成输出 包含了边临近编码 子格网编码 自身编码 中心点经纬度 cell边界经纬度\n",
    "\n",
    "    Args:\n",
    "        path (_type_):geojson路径\n",
    "    \"\"\"    \n",
    "    return gpd.read_file(filename=path,drive=\"GeoJSON\")"
   ]
  },
  {
   "cell_type": "code",
   "execution_count": 3,
   "metadata": {},
   "outputs": [
    {
     "data": {
      "text/plain": [
       "<AxesSubplot:>"
      ]
     },
     "execution_count": 3,
     "metadata": {},
     "output_type": "execute_result"
    },
    {
     "data": {
      "image/png": "[encoded data removed]",
      "text/plain": [
       "<Figure size 640x480 with 1 Axes>"
      ]
     },
     "metadata": {},
     "output_type": "display_data"
    }
   ],
   "source": [
    "path='/home/dls/data/openmmlab/DGGRID/examples/gdalCollection/outputfiles/everything.geojson'\n",
    "gdf = example_read_geojson(path)\n",
    "gdf.plot()"
   ]
  }
 ],
 "metadata": {
  "kernelspec": {
   "display_name": "pytorch",
   "language": "python",
   "name": "python3"
  },
  "language_info": {
   "codemirror_mode": {
    "name": "ipython",
    "version": 3
   },
   "file_extension": ".py",
   "mimetype": "text/x-python",
   "name": "python",
   "nbconvert_exporter": "python",
   "pygments_lexer": "ipython3",
   "version": "3.10.6 | packaged by conda-forge | (main, Aug 22 2022, 20:35:26) [GCC 10.4.0]"
  },
  "orig_nbformat": 4,
  "vscode": {
   "interpreter": {
    "hash": "a1a1808770d96742ca4781b13e06d02e7a79bd49acf7963f824051f0a68f185d"
   }
  }
 },
 "nbformat": 4,
 "nbformat_minor": 2
}
